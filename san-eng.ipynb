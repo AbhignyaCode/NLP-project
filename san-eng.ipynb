{
  "nbformat": 4,
  "nbformat_minor": 0,
  "metadata": {
    "colab": {
      "provenance": [],
      "gpuType": "T4"
    },
    "kernelspec": {
      "name": "python3",
      "display_name": "Python 3"
    },
    "language_info": {
      "name": "python"
    },
    "accelerator": "GPU"
  },
  "cells": [
    {
      "cell_type": "code",
      "execution_count": null,
      "metadata": {
        "id": "zo6udJZJM-zR"
      },
      "outputs": [],
      "source": [
        "import pandas as pd\n",
        "import numpy as np\n",
        "import string\n",
        "from string import digits\n",
        "import matplotlib.pyplot as plt\n",
        "%matplotlib inline\n",
        "import re\n",
        "from sklearn.utils import shuffle\n",
        "from sklearn.model_selection import train_test_split\n",
        "from keras.layers import Input, LSTM, Embedding, Dense\n",
        "from keras.models import Model\n",
        "import codecs"
      ]
    },
    {
      "cell_type": "code",
      "source": [
        "!pip3 install torch torchvision torchaudio"
      ],
      "metadata": {
        "colab": {
          "base_uri": "https://localhost:8080/"
        },
        "id": "6zsMVJ-ta3rU",
        "outputId": "d4e84cdf-1fed-43f2-a655-2fcc9bb986c7"
      },
      "execution_count": null,
      "outputs": [
        {
          "output_type": "stream",
          "name": "stdout",
          "text": [
            "Requirement already satisfied: torch in /usr/local/lib/python3.10/dist-packages (2.2.1+cu121)\n",
            "Requirement already satisfied: torchvision in /usr/local/lib/python3.10/dist-packages (0.17.1+cu121)\n",
            "Requirement already satisfied: torchaudio in /usr/local/lib/python3.10/dist-packages (2.2.1+cu121)\n",
            "Requirement already satisfied: filelock in /usr/local/lib/python3.10/dist-packages (from torch) (3.14.0)\n",
            "Requirement already satisfied: typing-extensions>=4.8.0 in /usr/local/lib/python3.10/dist-packages (from torch) (4.11.0)\n",
            "Requirement already satisfied: sympy in /usr/local/lib/python3.10/dist-packages (from torch) (1.12)\n",
            "Requirement already satisfied: networkx in /usr/local/lib/python3.10/dist-packages (from torch) (3.3)\n",
            "Requirement already satisfied: jinja2 in /usr/local/lib/python3.10/dist-packages (from torch) (3.1.3)\n",
            "Requirement already satisfied: fsspec in /usr/local/lib/python3.10/dist-packages (from torch) (2023.6.0)\n",
            "Requirement already satisfied: nvidia-cuda-nvrtc-cu12==12.1.105 in /usr/local/lib/python3.10/dist-packages (from torch) (12.1.105)\n",
            "Requirement already satisfied: nvidia-cuda-runtime-cu12==12.1.105 in /usr/local/lib/python3.10/dist-packages (from torch) (12.1.105)\n",
            "Requirement already satisfied: nvidia-cuda-cupti-cu12==12.1.105 in /usr/local/lib/python3.10/dist-packages (from torch) (12.1.105)\n",
            "Requirement already satisfied: nvidia-cudnn-cu12==8.9.2.26 in /usr/local/lib/python3.10/dist-packages (from torch) (8.9.2.26)\n",
            "Requirement already satisfied: nvidia-cublas-cu12==12.1.3.1 in /usr/local/lib/python3.10/dist-packages (from torch) (12.1.3.1)\n",
            "Requirement already satisfied: nvidia-cufft-cu12==11.0.2.54 in /usr/local/lib/python3.10/dist-packages (from torch) (11.0.2.54)\n",
            "Requirement already satisfied: nvidia-curand-cu12==10.3.2.106 in /usr/local/lib/python3.10/dist-packages (from torch) (10.3.2.106)\n",
            "Requirement already satisfied: nvidia-cusolver-cu12==11.4.5.107 in /usr/local/lib/python3.10/dist-packages (from torch) (11.4.5.107)\n",
            "Requirement already satisfied: nvidia-cusparse-cu12==12.1.0.106 in /usr/local/lib/python3.10/dist-packages (from torch) (12.1.0.106)\n",
            "Requirement already satisfied: nvidia-nccl-cu12==2.19.3 in /usr/local/lib/python3.10/dist-packages (from torch) (2.19.3)\n",
            "Requirement already satisfied: nvidia-nvtx-cu12==12.1.105 in /usr/local/lib/python3.10/dist-packages (from torch) (12.1.105)\n",
            "Requirement already satisfied: triton==2.2.0 in /usr/local/lib/python3.10/dist-packages (from torch) (2.2.0)\n",
            "Requirement already satisfied: nvidia-nvjitlink-cu12 in /usr/local/lib/python3.10/dist-packages (from nvidia-cusolver-cu12==11.4.5.107->torch) (12.4.127)\n",
            "Requirement already satisfied: numpy in /usr/local/lib/python3.10/dist-packages (from torchvision) (1.25.2)\n",
            "Requirement already satisfied: pillow!=8.3.*,>=5.3.0 in /usr/local/lib/python3.10/dist-packages (from torchvision) (9.4.0)\n",
            "Requirement already satisfied: MarkupSafe>=2.0 in /usr/local/lib/python3.10/dist-packages (from jinja2->torch) (2.1.5)\n",
            "Requirement already satisfied: mpmath>=0.19 in /usr/local/lib/python3.10/dist-packages (from sympy->torch) (1.3.0)\n"
          ]
        }
      ]
    },
    {
      "cell_type": "code",
      "source": [
        "!pip install datasets"
      ],
      "metadata": {
        "colab": {
          "base_uri": "https://localhost:8080/"
        },
        "id": "vy9-8ok-Z7kl",
        "outputId": "6107f871-43a8-4a97-bc42-1fa4f5d38e38"
      },
      "execution_count": null,
      "outputs": [
        {
          "output_type": "stream",
          "name": "stdout",
          "text": [
            "Requirement already satisfied: datasets in /usr/local/lib/python3.10/dist-packages (2.19.0)\n",
            "Requirement already satisfied: filelock in /usr/local/lib/python3.10/dist-packages (from datasets) (3.14.0)\n",
            "Requirement already satisfied: numpy>=1.17 in /usr/local/lib/python3.10/dist-packages (from datasets) (1.25.2)\n",
            "Requirement already satisfied: pyarrow>=12.0.0 in /usr/local/lib/python3.10/dist-packages (from datasets) (14.0.2)\n",
            "Requirement already satisfied: pyarrow-hotfix in /usr/local/lib/python3.10/dist-packages (from datasets) (0.6)\n",
            "Requirement already satisfied: dill<0.3.9,>=0.3.0 in /usr/local/lib/python3.10/dist-packages (from datasets) (0.3.8)\n",
            "Requirement already satisfied: pandas in /usr/local/lib/python3.10/dist-packages (from datasets) (2.0.3)\n",
            "Requirement already satisfied: requests>=2.19.0 in /usr/local/lib/python3.10/dist-packages (from datasets) (2.31.0)\n",
            "Requirement already satisfied: tqdm>=4.62.1 in /usr/local/lib/python3.10/dist-packages (from datasets) (4.66.2)\n",
            "Requirement already satisfied: xxhash in /usr/local/lib/python3.10/dist-packages (from datasets) (3.4.1)\n",
            "Requirement already satisfied: multiprocess in /usr/local/lib/python3.10/dist-packages (from datasets) (0.70.16)\n",
            "Requirement already satisfied: fsspec[http]<=2024.3.1,>=2023.1.0 in /usr/local/lib/python3.10/dist-packages (from datasets) (2023.6.0)\n",
            "Requirement already satisfied: aiohttp in /usr/local/lib/python3.10/dist-packages (from datasets) (3.9.5)\n",
            "Requirement already satisfied: huggingface-hub>=0.21.2 in /usr/local/lib/python3.10/dist-packages (from datasets) (0.23.0)\n",
            "Requirement already satisfied: packaging in /usr/local/lib/python3.10/dist-packages (from datasets) (24.0)\n",
            "Requirement already satisfied: pyyaml>=5.1 in /usr/local/lib/python3.10/dist-packages (from datasets) (6.0.1)\n",
            "Requirement already satisfied: aiosignal>=1.1.2 in /usr/local/lib/python3.10/dist-packages (from aiohttp->datasets) (1.3.1)\n",
            "Requirement already satisfied: attrs>=17.3.0 in /usr/local/lib/python3.10/dist-packages (from aiohttp->datasets) (23.2.0)\n",
            "Requirement already satisfied: frozenlist>=1.1.1 in /usr/local/lib/python3.10/dist-packages (from aiohttp->datasets) (1.4.1)\n",
            "Requirement already satisfied: multidict<7.0,>=4.5 in /usr/local/lib/python3.10/dist-packages (from aiohttp->datasets) (6.0.5)\n",
            "Requirement already satisfied: yarl<2.0,>=1.0 in /usr/local/lib/python3.10/dist-packages (from aiohttp->datasets) (1.9.4)\n",
            "Requirement already satisfied: async-timeout<5.0,>=4.0 in /usr/local/lib/python3.10/dist-packages (from aiohttp->datasets) (4.0.3)\n",
            "Requirement already satisfied: typing-extensions>=3.7.4.3 in /usr/local/lib/python3.10/dist-packages (from huggingface-hub>=0.21.2->datasets) (4.11.0)\n",
            "Requirement already satisfied: charset-normalizer<4,>=2 in /usr/local/lib/python3.10/dist-packages (from requests>=2.19.0->datasets) (3.3.2)\n",
            "Requirement already satisfied: idna<4,>=2.5 in /usr/local/lib/python3.10/dist-packages (from requests>=2.19.0->datasets) (3.7)\n",
            "Requirement already satisfied: urllib3<3,>=1.21.1 in /usr/local/lib/python3.10/dist-packages (from requests>=2.19.0->datasets) (2.0.7)\n",
            "Requirement already satisfied: certifi>=2017.4.17 in /usr/local/lib/python3.10/dist-packages (from requests>=2.19.0->datasets) (2024.2.2)\n",
            "Requirement already satisfied: python-dateutil>=2.8.2 in /usr/local/lib/python3.10/dist-packages (from pandas->datasets) (2.8.2)\n",
            "Requirement already satisfied: pytz>=2020.1 in /usr/local/lib/python3.10/dist-packages (from pandas->datasets) (2023.4)\n",
            "Requirement already satisfied: tzdata>=2022.1 in /usr/local/lib/python3.10/dist-packages (from pandas->datasets) (2024.1)\n",
            "Requirement already satisfied: six>=1.5 in /usr/local/lib/python3.10/dist-packages (from python-dateutil>=2.8.2->pandas->datasets) (1.16.0)\n"
          ]
        }
      ]
    },
    {
      "cell_type": "code",
      "source": [
        "from datasets import load_dataset\n",
        "\n",
        "dataset = load_dataset(\"rahular/itihasa\")"
      ],
      "metadata": {
        "id": "TBwM1Y_wZ4Bp"
      },
      "execution_count": null,
      "outputs": []
    },
    {
      "cell_type": "code",
      "source": [
        "from datasets import load_dataset\n",
        "\n",
        "dataset = load_dataset(\"rahular/itihasa\", split=\"train\")\n",
        "dataset"
      ],
      "metadata": {
        "colab": {
          "base_uri": "https://localhost:8080/"
        },
        "id": "6orBanpPeBpO",
        "outputId": "7352a5c5-33bc-49e3-de32-dfd0c78527b8"
      },
      "execution_count": null,
      "outputs": [
        {
          "output_type": "execute_result",
          "data": {
            "text/plain": [
              "Dataset({\n",
              "    features: ['translation'],\n",
              "    num_rows: 75162\n",
              "})"
            ]
          },
          "metadata": {},
          "execution_count": 40
        }
      ]
    },
    {
      "cell_type": "code",
      "source": [
        "import torch\n",
        "from datasets import load_dataset\n",
        "\n",
        "# Load the Hugging Face dataset\n",
        "dataset = load_dataset(\"rahular/itihasa\")\n",
        "\n",
        "# Extract translations from the dataset\n",
        "translations = dataset[\"train\"][\"translation\"]\n",
        "\n",
        "# Extract Sanskrit and English sentences from each entry\n",
        "sn_sentences = [entry[\"sn\"] for entry in translations]\n",
        "en_sentences = [entry[\"en\"] for entry in translations]\n",
        "\n",
        "# Your preprocessing and model adaptation code goes here\n",
        "half_dataset_size = len(sn_sentences) // 5\n",
        "sn_sentences = sn_sentences[:half_dataset_size]\n",
        "en_sentences = en_sentences[:half_dataset_size]\n"
      ],
      "metadata": {
        "id": "i3loxJxoe5h5"
      },
      "execution_count": null,
      "outputs": []
    },
    {
      "cell_type": "code",
      "source": [
        "def read_sentences(file_path,num):\n",
        "    sentences = []\n",
        "\n",
        "    with open(file_path, 'r') as reader:\n",
        "        for s in reader:\n",
        "            if num==1:\n",
        "                sentences.append(s.strip())\n",
        "            else:\n",
        "                sentences.append(codecs.unicode_escape_decode(s)[0].strip())\n",
        "\n",
        "    return sentences\n",
        "\n",
        "lines=pd.DataFrame()\n",
        "lines['san']=sn_sentences\n",
        "lines['eng']=en_sentences\n"
      ],
      "metadata": {
        "id": "C51h3RsEZY-d"
      },
      "execution_count": null,
      "outputs": []
    },
    {
      "cell_type": "code",
      "source": [
        "# Lowercase all characters\n",
        "lines.eng=lines.eng.apply(lambda x: x.lower())\n",
        "lines.san=lines.san.apply(lambda x: x.lower())\n"
      ],
      "metadata": {
        "id": "GLkAYVFfZkut"
      },
      "execution_count": null,
      "outputs": []
    },
    {
      "cell_type": "code",
      "source": [
        "# Remove quotes\n",
        "lines.eng=lines.eng.apply(lambda x: re.sub(\"'\", '', x))\n",
        "lines.san=lines.san.apply(lambda x: re.sub(\"'\", '', x))"
      ],
      "metadata": {
        "id": "pEijVr-iZmPl"
      },
      "execution_count": null,
      "outputs": []
    },
    {
      "cell_type": "code",
      "source": [
        "exclude = set(string.punctuation) # Set of all special characters\n",
        "# Remove all the special characters\n",
        "lines.eng=lines.eng.apply(lambda x: ''.join(ch for ch in x if ch not in exclude))\n",
        "lines.san=lines.san.apply(lambda x: ''.join(ch for ch in x if ch not in exclude))"
      ],
      "metadata": {
        "id": "n0DvOS4KZnlZ"
      },
      "execution_count": null,
      "outputs": []
    },
    {
      "cell_type": "code",
      "source": [
        "# Remove all numbers from text\n",
        "remove_digits = str.maketrans('', '', digits)\n",
        "lines.eng=lines.eng.apply(lambda x: x.translate(remove_digits))\n",
        "lines.san = lines.san.apply(lambda x: re.sub(\"[२३०८१५७९४६]\", \"\", x))"
      ],
      "metadata": {
        "id": "iFPLM2SjZpTR"
      },
      "execution_count": null,
      "outputs": []
    },
    {
      "cell_type": "code",
      "source": [
        "# Remove extra spaces\n",
        "lines.eng=lines.eng.apply(lambda x: x.strip())\n",
        "lines.san=lines.san.apply(lambda x: x.strip())\n",
        "lines.eng=lines.eng.apply(lambda x: re.sub(\" +\", \" \", x))\n",
        "lines.san=lines.san.apply(lambda x: re.sub(\" +\", \" \", x))"
      ],
      "metadata": {
        "id": "GZUtu-viZwRy"
      },
      "execution_count": null,
      "outputs": []
    },
    {
      "cell_type": "code",
      "source": [
        "# Add start and end tokens to target sequences\n",
        "lines.eng = lines.eng.apply(lambda x : 'START_ '+ x + ' _END')"
      ],
      "metadata": {
        "id": "bkyAiZC1ZxV5"
      },
      "execution_count": null,
      "outputs": []
    },
    {
      "cell_type": "code",
      "source": [
        "lines.sample(10)\n"
      ],
      "metadata": {
        "colab": {
          "base_uri": "https://localhost:8080/",
          "height": 363
        },
        "id": "H0yxNJ-ZZyye",
        "outputId": "3b2c4759-fe35-4498-9c5f-66dfba081544"
      },
      "execution_count": null,
      "outputs": [
        {
          "output_type": "execute_result",
          "data": {
            "text/plain": [
              "                                                     san  \\\n",
              "13256  तमब्रवीन्महातेजा लक्ष्मणस्योपशृण्वतः। विमृश्य ...   \n",
              "13097  तमुवाच महाप्राज्ञः सोऽभिवाद्य प्लवंगमः। रामं क...   \n",
              "1277   ब्रह्मर्षिस्त्वं न संदेहः सर्वं सम्पद्यते तव। ...   \n",
              "14943  अकीर्तिर्यस्य गीयेत लोके भूतस्य कस्यचित्॥ पतत्...   \n",
              "9241   एतागच्छत गच्छामो वानरानतिदर्पितान्। बलेनावारयि...   \n",
              "2008   प्रविश्य प्रथमां कक्ष्यां द्वितीयायां ददर्श सः...   \n",
              "9688   तस्य कामपरीतस्य निशम्य परिदेवितम्। कुम्भकर्णः ...   \n",
              "11560  स वायुसूनुः कुपितश्चिक्षेप शिखरं गिरेः। त्रिशि...   \n",
              "2405   यन्महेन्द्रमिवाजय्यं दुष्प्रकम्प्यमिवाजलम्। मह...   \n",
              "3318   पीठे कार्णायसे चैव निषण्णं कृष्णवाससम्। प्रहरन...   \n",
              "\n",
              "                                                     eng  \n",
              "13256  START_ hearing those words the highly powerful...  \n",
              "13097  START_ thereupon bowing to rāma the foremost o...  \n",
              "1277   START_ so be it you are a brahmarsi there is n...  \n",
              "14943  START_ he who is notorious on this earth and a...  \n",
              "9241   START_ proceed you before i shall soon follow ...  \n",
              "2008   START_ having passed through the first apartme...  \n",
              "9688   START_ hearing the sorrowful speech of rāvana ...  \n",
              "11560  START_ thereat the windgods son enraged hurled...  \n",
              "2405   START_ inasmuch as you have by your act afflic...  \n",
              "3318   START_ i saw the king seated on a sable seat o...  "
            ],
            "text/html": [
              "\n",
              "  <div id=\"df-07052b2f-5829-4739-8ea8-1d385fd49207\" class=\"colab-df-container\">\n",
              "    <div>\n",
              "<style scoped>\n",
              "    .dataframe tbody tr th:only-of-type {\n",
              "        vertical-align: middle;\n",
              "    }\n",
              "\n",
              "    .dataframe tbody tr th {\n",
              "        vertical-align: top;\n",
              "    }\n",
              "\n",
              "    .dataframe thead th {\n",
              "        text-align: right;\n",
              "    }\n",
              "</style>\n",
              "<table border=\"1\" class=\"dataframe\">\n",
              "  <thead>\n",
              "    <tr style=\"text-align: right;\">\n",
              "      <th></th>\n",
              "      <th>san</th>\n",
              "      <th>eng</th>\n",
              "    </tr>\n",
              "  </thead>\n",
              "  <tbody>\n",
              "    <tr>\n",
              "      <th>13256</th>\n",
              "      <td>तमब्रवीन्महातेजा लक्ष्मणस्योपशृण्वतः। विमृश्य ...</td>\n",
              "      <td>START_ hearing those words the highly powerful...</td>\n",
              "    </tr>\n",
              "    <tr>\n",
              "      <th>13097</th>\n",
              "      <td>तमुवाच महाप्राज्ञः सोऽभिवाद्य प्लवंगमः। रामं क...</td>\n",
              "      <td>START_ thereupon bowing to rāma the foremost o...</td>\n",
              "    </tr>\n",
              "    <tr>\n",
              "      <th>1277</th>\n",
              "      <td>ब्रह्मर्षिस्त्वं न संदेहः सर्वं सम्पद्यते तव। ...</td>\n",
              "      <td>START_ so be it you are a brahmarsi there is n...</td>\n",
              "    </tr>\n",
              "    <tr>\n",
              "      <th>14943</th>\n",
              "      <td>अकीर्तिर्यस्य गीयेत लोके भूतस्य कस्यचित्॥ पतत्...</td>\n",
              "      <td>START_ he who is notorious on this earth and a...</td>\n",
              "    </tr>\n",
              "    <tr>\n",
              "      <th>9241</th>\n",
              "      <td>एतागच्छत गच्छामो वानरानतिदर्पितान्। बलेनावारयि...</td>\n",
              "      <td>START_ proceed you before i shall soon follow ...</td>\n",
              "    </tr>\n",
              "    <tr>\n",
              "      <th>2008</th>\n",
              "      <td>प्रविश्य प्रथमां कक्ष्यां द्वितीयायां ददर्श सः...</td>\n",
              "      <td>START_ having passed through the first apartme...</td>\n",
              "    </tr>\n",
              "    <tr>\n",
              "      <th>9688</th>\n",
              "      <td>तस्य कामपरीतस्य निशम्य परिदेवितम्। कुम्भकर्णः ...</td>\n",
              "      <td>START_ hearing the sorrowful speech of rāvana ...</td>\n",
              "    </tr>\n",
              "    <tr>\n",
              "      <th>11560</th>\n",
              "      <td>स वायुसूनुः कुपितश्चिक्षेप शिखरं गिरेः। त्रिशि...</td>\n",
              "      <td>START_ thereat the windgods son enraged hurled...</td>\n",
              "    </tr>\n",
              "    <tr>\n",
              "      <th>2405</th>\n",
              "      <td>यन्महेन्द्रमिवाजय्यं दुष्प्रकम्प्यमिवाजलम्। मह...</td>\n",
              "      <td>START_ inasmuch as you have by your act afflic...</td>\n",
              "    </tr>\n",
              "    <tr>\n",
              "      <th>3318</th>\n",
              "      <td>पीठे कार्णायसे चैव निषण्णं कृष्णवाससम्। प्रहरन...</td>\n",
              "      <td>START_ i saw the king seated on a sable seat o...</td>\n",
              "    </tr>\n",
              "  </tbody>\n",
              "</table>\n",
              "</div>\n",
              "    <div class=\"colab-df-buttons\">\n",
              "\n",
              "  <div class=\"colab-df-container\">\n",
              "    <button class=\"colab-df-convert\" onclick=\"convertToInteractive('df-07052b2f-5829-4739-8ea8-1d385fd49207')\"\n",
              "            title=\"Convert this dataframe to an interactive table.\"\n",
              "            style=\"display:none;\">\n",
              "\n",
              "  <svg xmlns=\"http://www.w3.org/2000/svg\" height=\"24px\" viewBox=\"0 -960 960 960\">\n",
              "    <path d=\"M120-120v-720h720v720H120Zm60-500h600v-160H180v160Zm220 220h160v-160H400v160Zm0 220h160v-160H400v160ZM180-400h160v-160H180v160Zm440 0h160v-160H620v160ZM180-180h160v-160H180v160Zm440 0h160v-160H620v160Z\"/>\n",
              "  </svg>\n",
              "    </button>\n",
              "\n",
              "  <style>\n",
              "    .colab-df-container {\n",
              "      display:flex;\n",
              "      gap: 12px;\n",
              "    }\n",
              "\n",
              "    .colab-df-convert {\n",
              "      background-color: #E8F0FE;\n",
              "      border: none;\n",
              "      border-radius: 50%;\n",
              "      cursor: pointer;\n",
              "      display: none;\n",
              "      fill: #1967D2;\n",
              "      height: 32px;\n",
              "      padding: 0 0 0 0;\n",
              "      width: 32px;\n",
              "    }\n",
              "\n",
              "    .colab-df-convert:hover {\n",
              "      background-color: #E2EBFA;\n",
              "      box-shadow: 0px 1px 2px rgba(60, 64, 67, 0.3), 0px 1px 3px 1px rgba(60, 64, 67, 0.15);\n",
              "      fill: #174EA6;\n",
              "    }\n",
              "\n",
              "    .colab-df-buttons div {\n",
              "      margin-bottom: 4px;\n",
              "    }\n",
              "\n",
              "    [theme=dark] .colab-df-convert {\n",
              "      background-color: #3B4455;\n",
              "      fill: #D2E3FC;\n",
              "    }\n",
              "\n",
              "    [theme=dark] .colab-df-convert:hover {\n",
              "      background-color: #434B5C;\n",
              "      box-shadow: 0px 1px 3px 1px rgba(0, 0, 0, 0.15);\n",
              "      filter: drop-shadow(0px 1px 2px rgba(0, 0, 0, 0.3));\n",
              "      fill: #FFFFFF;\n",
              "    }\n",
              "  </style>\n",
              "\n",
              "    <script>\n",
              "      const buttonEl =\n",
              "        document.querySelector('#df-07052b2f-5829-4739-8ea8-1d385fd49207 button.colab-df-convert');\n",
              "      buttonEl.style.display =\n",
              "        google.colab.kernel.accessAllowed ? 'block' : 'none';\n",
              "\n",
              "      async function convertToInteractive(key) {\n",
              "        const element = document.querySelector('#df-07052b2f-5829-4739-8ea8-1d385fd49207');\n",
              "        const dataTable =\n",
              "          await google.colab.kernel.invokeFunction('convertToInteractive',\n",
              "                                                    [key], {});\n",
              "        if (!dataTable) return;\n",
              "\n",
              "        const docLinkHtml = 'Like what you see? Visit the ' +\n",
              "          '<a target=\"_blank\" href=https://colab.research.google.com/notebooks/data_table.ipynb>data table notebook</a>'\n",
              "          + ' to learn more about interactive tables.';\n",
              "        element.innerHTML = '';\n",
              "        dataTable['output_type'] = 'display_data';\n",
              "        await google.colab.output.renderOutput(dataTable, element);\n",
              "        const docLink = document.createElement('div');\n",
              "        docLink.innerHTML = docLinkHtml;\n",
              "        element.appendChild(docLink);\n",
              "      }\n",
              "    </script>\n",
              "  </div>\n",
              "\n",
              "\n",
              "<div id=\"df-15760fac-b381-4048-8eb7-2000618bdc5a\">\n",
              "  <button class=\"colab-df-quickchart\" onclick=\"quickchart('df-15760fac-b381-4048-8eb7-2000618bdc5a')\"\n",
              "            title=\"Suggest charts\"\n",
              "            style=\"display:none;\">\n",
              "\n",
              "<svg xmlns=\"http://www.w3.org/2000/svg\" height=\"24px\"viewBox=\"0 0 24 24\"\n",
              "     width=\"24px\">\n",
              "    <g>\n",
              "        <path d=\"M19 3H5c-1.1 0-2 .9-2 2v14c0 1.1.9 2 2 2h14c1.1 0 2-.9 2-2V5c0-1.1-.9-2-2-2zM9 17H7v-7h2v7zm4 0h-2V7h2v10zm4 0h-2v-4h2v4z\"/>\n",
              "    </g>\n",
              "</svg>\n",
              "  </button>\n",
              "\n",
              "<style>\n",
              "  .colab-df-quickchart {\n",
              "      --bg-color: #E8F0FE;\n",
              "      --fill-color: #1967D2;\n",
              "      --hover-bg-color: #E2EBFA;\n",
              "      --hover-fill-color: #174EA6;\n",
              "      --disabled-fill-color: #AAA;\n",
              "      --disabled-bg-color: #DDD;\n",
              "  }\n",
              "\n",
              "  [theme=dark] .colab-df-quickchart {\n",
              "      --bg-color: #3B4455;\n",
              "      --fill-color: #D2E3FC;\n",
              "      --hover-bg-color: #434B5C;\n",
              "      --hover-fill-color: #FFFFFF;\n",
              "      --disabled-bg-color: #3B4455;\n",
              "      --disabled-fill-color: #666;\n",
              "  }\n",
              "\n",
              "  .colab-df-quickchart {\n",
              "    background-color: var(--bg-color);\n",
              "    border: none;\n",
              "    border-radius: 50%;\n",
              "    cursor: pointer;\n",
              "    display: none;\n",
              "    fill: var(--fill-color);\n",
              "    height: 32px;\n",
              "    padding: 0;\n",
              "    width: 32px;\n",
              "  }\n",
              "\n",
              "  .colab-df-quickchart:hover {\n",
              "    background-color: var(--hover-bg-color);\n",
              "    box-shadow: 0 1px 2px rgba(60, 64, 67, 0.3), 0 1px 3px 1px rgba(60, 64, 67, 0.15);\n",
              "    fill: var(--button-hover-fill-color);\n",
              "  }\n",
              "\n",
              "  .colab-df-quickchart-complete:disabled,\n",
              "  .colab-df-quickchart-complete:disabled:hover {\n",
              "    background-color: var(--disabled-bg-color);\n",
              "    fill: var(--disabled-fill-color);\n",
              "    box-shadow: none;\n",
              "  }\n",
              "\n",
              "  .colab-df-spinner {\n",
              "    border: 2px solid var(--fill-color);\n",
              "    border-color: transparent;\n",
              "    border-bottom-color: var(--fill-color);\n",
              "    animation:\n",
              "      spin 1s steps(1) infinite;\n",
              "  }\n",
              "\n",
              "  @keyframes spin {\n",
              "    0% {\n",
              "      border-color: transparent;\n",
              "      border-bottom-color: var(--fill-color);\n",
              "      border-left-color: var(--fill-color);\n",
              "    }\n",
              "    20% {\n",
              "      border-color: transparent;\n",
              "      border-left-color: var(--fill-color);\n",
              "      border-top-color: var(--fill-color);\n",
              "    }\n",
              "    30% {\n",
              "      border-color: transparent;\n",
              "      border-left-color: var(--fill-color);\n",
              "      border-top-color: var(--fill-color);\n",
              "      border-right-color: var(--fill-color);\n",
              "    }\n",
              "    40% {\n",
              "      border-color: transparent;\n",
              "      border-right-color: var(--fill-color);\n",
              "      border-top-color: var(--fill-color);\n",
              "    }\n",
              "    60% {\n",
              "      border-color: transparent;\n",
              "      border-right-color: var(--fill-color);\n",
              "    }\n",
              "    80% {\n",
              "      border-color: transparent;\n",
              "      border-right-color: var(--fill-color);\n",
              "      border-bottom-color: var(--fill-color);\n",
              "    }\n",
              "    90% {\n",
              "      border-color: transparent;\n",
              "      border-bottom-color: var(--fill-color);\n",
              "    }\n",
              "  }\n",
              "</style>\n",
              "\n",
              "  <script>\n",
              "    async function quickchart(key) {\n",
              "      const quickchartButtonEl =\n",
              "        document.querySelector('#' + key + ' button');\n",
              "      quickchartButtonEl.disabled = true;  // To prevent multiple clicks.\n",
              "      quickchartButtonEl.classList.add('colab-df-spinner');\n",
              "      try {\n",
              "        const charts = await google.colab.kernel.invokeFunction(\n",
              "            'suggestCharts', [key], {});\n",
              "      } catch (error) {\n",
              "        console.error('Error during call to suggestCharts:', error);\n",
              "      }\n",
              "      quickchartButtonEl.classList.remove('colab-df-spinner');\n",
              "      quickchartButtonEl.classList.add('colab-df-quickchart-complete');\n",
              "    }\n",
              "    (() => {\n",
              "      let quickchartButtonEl =\n",
              "        document.querySelector('#df-15760fac-b381-4048-8eb7-2000618bdc5a button');\n",
              "      quickchartButtonEl.style.display =\n",
              "        google.colab.kernel.accessAllowed ? 'block' : 'none';\n",
              "    })();\n",
              "  </script>\n",
              "</div>\n",
              "\n",
              "    </div>\n",
              "  </div>\n"
            ],
            "application/vnd.google.colaboratory.intrinsic+json": {
              "type": "dataframe",
              "summary": "{\n  \"name\": \"lines\",\n  \"rows\": 10,\n  \"fields\": [\n    {\n      \"column\": \"san\",\n      \"properties\": {\n        \"dtype\": \"string\",\n        \"num_unique_values\": 10,\n        \"samples\": [\n          \"\\u092f\\u0928\\u094d\\u092e\\u0939\\u0947\\u0928\\u094d\\u0926\\u094d\\u0930\\u092e\\u093f\\u0935\\u093e\\u091c\\u092f\\u094d\\u092f\\u0902 \\u0926\\u0941\\u0937\\u094d\\u092a\\u094d\\u0930\\u0915\\u092e\\u094d\\u092a\\u094d\\u092f\\u092e\\u093f\\u0935\\u093e\\u091c\\u0932\\u092e\\u094d\\u0964 \\u092e\\u0939\\u094b\\u0926\\u0927\\u093f\\u092e\\u093f\\u0935\\u093e\\u0915\\u094d\\u0937\\u094b\\u092d\\u094d\\u092f\\u0902 \\u0938\\u0902\\u0924\\u093e\\u092a\\u092f\\u0938\\u093f \\u0915\\u0930\\u094d\\u092e\\u092d\\u093f\\u0903\\u0965\",\n          \"\\u0924\\u092e\\u0941\\u0935\\u093e\\u091a \\u092e\\u0939\\u093e\\u092a\\u094d\\u0930\\u093e\\u091c\\u094d\\u091e\\u0903 \\u0938\\u094b\\u093d\\u092d\\u093f\\u0935\\u093e\\u0926\\u094d\\u092f \\u092a\\u094d\\u0932\\u0935\\u0902\\u0917\\u092e\\u0903\\u0964 \\u0930\\u093e\\u092e\\u0902 \\u0915\\u092e\\u0932\\u092a\\u0924\\u094d\\u0930\\u093e\\u0915\\u094d\\u0937\\u0902 \\u0935\\u0930\\u0902 \\u0938\\u0930\\u094d\\u0935\\u0927\\u0928\\u0941\\u0937\\u094d\\u092e\\u0924\\u093e\\u092e\\u094d\\u0965\",\n          \"\\u092a\\u094d\\u0930\\u0935\\u093f\\u0936\\u094d\\u092f \\u092a\\u094d\\u0930\\u0925\\u092e\\u093e\\u0902 \\u0915\\u0915\\u094d\\u0937\\u094d\\u092f\\u093e\\u0902 \\u0926\\u094d\\u0935\\u093f\\u0924\\u0940\\u092f\\u093e\\u092f\\u093e\\u0902 \\u0926\\u0926\\u0930\\u094d\\u0936 \\u0938\\u0903\\u0964 \\u092c\\u094d\\u0930\\u093e\\u0939\\u094d\\u092e\\u0923\\u093e\\u0928\\u094d \\u0935\\u0947\\u0926\\u0938\\u092e\\u094d\\u092a\\u0928\\u094d\\u0928\\u093e\\u0928\\u094d \\u0935\\u0943\\u0926\\u094d\\u0927\\u093e\\u0928\\u094d \\u0930\\u093e\\u091c\\u094d\\u091e\\u093e\\u092d\\u093f\\u0938\\u0924\\u094d\\u0915\\u0943\\u0924\\u093e\\u0928\\u094d\\u0965\"\n        ],\n        \"semantic_type\": \"\",\n        \"description\": \"\"\n      }\n    },\n    {\n      \"column\": \"eng\",\n      \"properties\": {\n        \"dtype\": \"string\",\n        \"num_unique_values\": 10,\n        \"samples\": [\n          \"START_ inasmuch as you have by your act afflicted the monarch invincible like indra firm as a hill and imperturbable like the deep itself _END\",\n          \"START_ thereupon bowing to r\\u0101ma the foremost of bowmen having eyes resembling lotuspetals the highly wise monkey said _END\",\n          \"START_ having passed through the first apartment he saw in the second manyold brahmanas versed in the vedas and honoured by the king _END\"\n        ],\n        \"semantic_type\": \"\",\n        \"description\": \"\"\n      }\n    }\n  ]\n}"
            }
          },
          "metadata": {},
          "execution_count": 49
        }
      ]
    },
    {
      "cell_type": "code",
      "source": [
        "all_eng_words=set()\n",
        "for eng in lines.eng:\n",
        "    for word in eng.split():\n",
        "        if word not in all_eng_words:\n",
        "            all_eng_words.add(word)\n",
        "\n",
        "all_san_words=set()\n",
        "for san in lines.san:\n",
        "    for word in san.split():\n",
        "        if word not in all_san_words:\n",
        "            all_san_words.add(word)"
      ],
      "metadata": {
        "id": "sIr7_A61fTgA"
      },
      "execution_count": null,
      "outputs": []
    },
    {
      "cell_type": "code",
      "source": [
        "# Max Length of source sequence\n",
        "lenght_list=[]\n",
        "for l in lines.san:\n",
        "    lenght_list.append(len(l.split(' ')))\n",
        "max_length_src = np.max(lenght_list)\n",
        "\n",
        "mean_length_src=np.mean(lenght_list)"
      ],
      "metadata": {
        "id": "IPgXYHtIfVTc"
      },
      "execution_count": null,
      "outputs": []
    },
    {
      "cell_type": "code",
      "source": [
        "# Max Length of target sequence\n",
        "lenght_list=[]\n",
        "for l in lines.eng:\n",
        "    lenght_list.append(len(l.split(' ')))\n",
        "max_length_tar = np.max(lenght_list)\n",
        "\n",
        "mean_length_tar=np.mean(lenght_list)"
      ],
      "metadata": {
        "id": "3gWKGh_GfXOt"
      },
      "execution_count": null,
      "outputs": []
    },
    {
      "cell_type": "code",
      "source": [
        "target_words = sorted(list(all_eng_words))\n",
        "input_words = sorted(list(all_san_words))\n",
        "num_decoder_tokens = len(all_eng_words)\n",
        "num_encoder_tokens = len(all_san_words)\n",
        "num_encoder_tokens, num_decoder_tokens"
      ],
      "metadata": {
        "colab": {
          "base_uri": "https://localhost:8080/"
        },
        "id": "3ok4RtDzfY6Y",
        "outputId": "280a2b75-51a2-405e-b800-8ba1b955aa9f"
      },
      "execution_count": null,
      "outputs": [
        {
          "output_type": "execute_result",
          "data": {
            "text/plain": [
              "(72422, 18402)"
            ]
          },
          "metadata": {},
          "execution_count": 53
        }
      ]
    },
    {
      "cell_type": "code",
      "source": [
        "num_decoder_tokens += 1"
      ],
      "metadata": {
        "id": "WcKfvMYIfdEI"
      },
      "execution_count": null,
      "outputs": []
    },
    {
      "cell_type": "code",
      "source": [
        "input_token_index = dict([(word, i+1) for i, word in enumerate(input_words)])\n",
        "target_token_index = dict([(word, i+1) for i, word in enumerate(target_words)])\n"
      ],
      "metadata": {
        "id": "-0eOm0EJffN8"
      },
      "execution_count": null,
      "outputs": []
    },
    {
      "cell_type": "code",
      "source": [
        "reverse_input_char_index = dict((i, word) for word, i in input_token_index.items())\n",
        "reverse_target_char_index = dict((i, word) for word, i in target_token_index.items())\n"
      ],
      "metadata": {
        "id": "jLxnRGhcfhnY"
      },
      "execution_count": null,
      "outputs": []
    },
    {
      "cell_type": "code",
      "source": [
        "lines = shuffle(lines)\n",
        "lines.head(10)\n"
      ],
      "metadata": {
        "colab": {
          "base_uri": "https://localhost:8080/",
          "height": 363
        },
        "id": "o98J6_Xofj3n",
        "outputId": "10570572-fdec-45cf-8355-240cabe260fe"
      },
      "execution_count": null,
      "outputs": [
        {
          "output_type": "execute_result",
          "data": {
            "text/plain": [
              "                                                     san  \\\n",
              "4537   सुतीक्ष्णमभिगच्छ त्वं शुचौ देशे तपस्विनम्। रमण...   \n",
              "13283  एतदायोधनं पश्य मांसशोणितकर्दमम्। हरीणां राक्षस...   \n",
              "10734  न चातिक्रमितुं शक्यं दैवं सुग्रीव मानुषैः। यत्...   \n",
              "6601   क्वचिन्नीलोत्पलैश्छन्ना भाति रक्तोत्पलैः क्वचि...   \n",
              "13529  पूर्वात्समुद्रात्कलशं जलपूर्णमथानयत्॥ सुषेणः स...   \n",
              "1460   अयं केकयराजस्य पुत्रो वसति पुत्रक॥ त्वां नेतुम...   \n",
              "5115   एतदर्थमहं प्राप्तस्त्वत्समीपं निशाचर। शृणु तत्...   \n",
              "14052  दैवतानि न नन्दन्ति धर्मयुक्तन केन चित्। येन त्...   \n",
              "5660   कामवृत्तमनार्यं वा मृषावादिनमेव च॥ धिक् त्वामि...   \n",
              "14811  चलत्केसरमात्मानं कृत्वा तस्य तटे स्थितः। ददर्श...   \n",
              "\n",
              "                                                     eng  \n",
              "4537   START_ o rāma follow this mandākini flowing am...  \n",
              "13283  START_ behold o sītā that huge arena of battle...  \n",
              "10734  START_ but o sugriva man cannot overrule desti...  \n",
              "6601   START_ here it appears covered with violet lot...  \n",
              "13529  START_ suşeņa gifted with prowess brought that...  \n",
              "1460   START_ o son this son of the king of the kekay...  \n",
              "5115   START_ taking this to my heart i have come to ...  \n",
              "14052  START_ the gods have set their face against yo...  \n",
              "5660   START_ o shame on you for certain shall my fat...  \n",
              "14811  START_ having shaken his manes with a delighte...  "
            ],
            "text/html": [
              "\n",
              "  <div id=\"df-a4d0ebf3-a0cc-41d5-823b-a5816c33f65a\" class=\"colab-df-container\">\n",
              "    <div>\n",
              "<style scoped>\n",
              "    .dataframe tbody tr th:only-of-type {\n",
              "        vertical-align: middle;\n",
              "    }\n",
              "\n",
              "    .dataframe tbody tr th {\n",
              "        vertical-align: top;\n",
              "    }\n",
              "\n",
              "    .dataframe thead th {\n",
              "        text-align: right;\n",
              "    }\n",
              "</style>\n",
              "<table border=\"1\" class=\"dataframe\">\n",
              "  <thead>\n",
              "    <tr style=\"text-align: right;\">\n",
              "      <th></th>\n",
              "      <th>san</th>\n",
              "      <th>eng</th>\n",
              "    </tr>\n",
              "  </thead>\n",
              "  <tbody>\n",
              "    <tr>\n",
              "      <th>4537</th>\n",
              "      <td>सुतीक्ष्णमभिगच्छ त्वं शुचौ देशे तपस्विनम्। रमण...</td>\n",
              "      <td>START_ o rāma follow this mandākini flowing am...</td>\n",
              "    </tr>\n",
              "    <tr>\n",
              "      <th>13283</th>\n",
              "      <td>एतदायोधनं पश्य मांसशोणितकर्दमम्। हरीणां राक्षस...</td>\n",
              "      <td>START_ behold o sītā that huge arena of battle...</td>\n",
              "    </tr>\n",
              "    <tr>\n",
              "      <th>10734</th>\n",
              "      <td>न चातिक्रमितुं शक्यं दैवं सुग्रीव मानुषैः। यत्...</td>\n",
              "      <td>START_ but o sugriva man cannot overrule desti...</td>\n",
              "    </tr>\n",
              "    <tr>\n",
              "      <th>6601</th>\n",
              "      <td>क्वचिन्नीलोत्पलैश्छन्ना भाति रक्तोत्पलैः क्वचि...</td>\n",
              "      <td>START_ here it appears covered with violet lot...</td>\n",
              "    </tr>\n",
              "    <tr>\n",
              "      <th>13529</th>\n",
              "      <td>पूर्वात्समुद्रात्कलशं जलपूर्णमथानयत्॥ सुषेणः स...</td>\n",
              "      <td>START_ suşeņa gifted with prowess brought that...</td>\n",
              "    </tr>\n",
              "    <tr>\n",
              "      <th>1460</th>\n",
              "      <td>अयं केकयराजस्य पुत्रो वसति पुत्रक॥ त्वां नेतुम...</td>\n",
              "      <td>START_ o son this son of the king of the kekay...</td>\n",
              "    </tr>\n",
              "    <tr>\n",
              "      <th>5115</th>\n",
              "      <td>एतदर्थमहं प्राप्तस्त्वत्समीपं निशाचर। शृणु तत्...</td>\n",
              "      <td>START_ taking this to my heart i have come to ...</td>\n",
              "    </tr>\n",
              "    <tr>\n",
              "      <th>14052</th>\n",
              "      <td>दैवतानि न नन्दन्ति धर्मयुक्तन केन चित्। येन त्...</td>\n",
              "      <td>START_ the gods have set their face against yo...</td>\n",
              "    </tr>\n",
              "    <tr>\n",
              "      <th>5660</th>\n",
              "      <td>कामवृत्तमनार्यं वा मृषावादिनमेव च॥ धिक् त्वामि...</td>\n",
              "      <td>START_ o shame on you for certain shall my fat...</td>\n",
              "    </tr>\n",
              "    <tr>\n",
              "      <th>14811</th>\n",
              "      <td>चलत्केसरमात्मानं कृत्वा तस्य तटे स्थितः। ददर्श...</td>\n",
              "      <td>START_ having shaken his manes with a delighte...</td>\n",
              "    </tr>\n",
              "  </tbody>\n",
              "</table>\n",
              "</div>\n",
              "    <div class=\"colab-df-buttons\">\n",
              "\n",
              "  <div class=\"colab-df-container\">\n",
              "    <button class=\"colab-df-convert\" onclick=\"convertToInteractive('df-a4d0ebf3-a0cc-41d5-823b-a5816c33f65a')\"\n",
              "            title=\"Convert this dataframe to an interactive table.\"\n",
              "            style=\"display:none;\">\n",
              "\n",
              "  <svg xmlns=\"http://www.w3.org/2000/svg\" height=\"24px\" viewBox=\"0 -960 960 960\">\n",
              "    <path d=\"M120-120v-720h720v720H120Zm60-500h600v-160H180v160Zm220 220h160v-160H400v160Zm0 220h160v-160H400v160ZM180-400h160v-160H180v160Zm440 0h160v-160H620v160ZM180-180h160v-160H180v160Zm440 0h160v-160H620v160Z\"/>\n",
              "  </svg>\n",
              "    </button>\n",
              "\n",
              "  <style>\n",
              "    .colab-df-container {\n",
              "      display:flex;\n",
              "      gap: 12px;\n",
              "    }\n",
              "\n",
              "    .colab-df-convert {\n",
              "      background-color: #E8F0FE;\n",
              "      border: none;\n",
              "      border-radius: 50%;\n",
              "      cursor: pointer;\n",
              "      display: none;\n",
              "      fill: #1967D2;\n",
              "      height: 32px;\n",
              "      padding: 0 0 0 0;\n",
              "      width: 32px;\n",
              "    }\n",
              "\n",
              "    .colab-df-convert:hover {\n",
              "      background-color: #E2EBFA;\n",
              "      box-shadow: 0px 1px 2px rgba(60, 64, 67, 0.3), 0px 1px 3px 1px rgba(60, 64, 67, 0.15);\n",
              "      fill: #174EA6;\n",
              "    }\n",
              "\n",
              "    .colab-df-buttons div {\n",
              "      margin-bottom: 4px;\n",
              "    }\n",
              "\n",
              "    [theme=dark] .colab-df-convert {\n",
              "      background-color: #3B4455;\n",
              "      fill: #D2E3FC;\n",
              "    }\n",
              "\n",
              "    [theme=dark] .colab-df-convert:hover {\n",
              "      background-color: #434B5C;\n",
              "      box-shadow: 0px 1px 3px 1px rgba(0, 0, 0, 0.15);\n",
              "      filter: drop-shadow(0px 1px 2px rgba(0, 0, 0, 0.3));\n",
              "      fill: #FFFFFF;\n",
              "    }\n",
              "  </style>\n",
              "\n",
              "    <script>\n",
              "      const buttonEl =\n",
              "        document.querySelector('#df-a4d0ebf3-a0cc-41d5-823b-a5816c33f65a button.colab-df-convert');\n",
              "      buttonEl.style.display =\n",
              "        google.colab.kernel.accessAllowed ? 'block' : 'none';\n",
              "\n",
              "      async function convertToInteractive(key) {\n",
              "        const element = document.querySelector('#df-a4d0ebf3-a0cc-41d5-823b-a5816c33f65a');\n",
              "        const dataTable =\n",
              "          await google.colab.kernel.invokeFunction('convertToInteractive',\n",
              "                                                    [key], {});\n",
              "        if (!dataTable) return;\n",
              "\n",
              "        const docLinkHtml = 'Like what you see? Visit the ' +\n",
              "          '<a target=\"_blank\" href=https://colab.research.google.com/notebooks/data_table.ipynb>data table notebook</a>'\n",
              "          + ' to learn more about interactive tables.';\n",
              "        element.innerHTML = '';\n",
              "        dataTable['output_type'] = 'display_data';\n",
              "        await google.colab.output.renderOutput(dataTable, element);\n",
              "        const docLink = document.createElement('div');\n",
              "        docLink.innerHTML = docLinkHtml;\n",
              "        element.appendChild(docLink);\n",
              "      }\n",
              "    </script>\n",
              "  </div>\n",
              "\n",
              "\n",
              "<div id=\"df-62eb4c4a-b666-4a68-a98b-ac3bd094ba95\">\n",
              "  <button class=\"colab-df-quickchart\" onclick=\"quickchart('df-62eb4c4a-b666-4a68-a98b-ac3bd094ba95')\"\n",
              "            title=\"Suggest charts\"\n",
              "            style=\"display:none;\">\n",
              "\n",
              "<svg xmlns=\"http://www.w3.org/2000/svg\" height=\"24px\"viewBox=\"0 0 24 24\"\n",
              "     width=\"24px\">\n",
              "    <g>\n",
              "        <path d=\"M19 3H5c-1.1 0-2 .9-2 2v14c0 1.1.9 2 2 2h14c1.1 0 2-.9 2-2V5c0-1.1-.9-2-2-2zM9 17H7v-7h2v7zm4 0h-2V7h2v10zm4 0h-2v-4h2v4z\"/>\n",
              "    </g>\n",
              "</svg>\n",
              "  </button>\n",
              "\n",
              "<style>\n",
              "  .colab-df-quickchart {\n",
              "      --bg-color: #E8F0FE;\n",
              "      --fill-color: #1967D2;\n",
              "      --hover-bg-color: #E2EBFA;\n",
              "      --hover-fill-color: #174EA6;\n",
              "      --disabled-fill-color: #AAA;\n",
              "      --disabled-bg-color: #DDD;\n",
              "  }\n",
              "\n",
              "  [theme=dark] .colab-df-quickchart {\n",
              "      --bg-color: #3B4455;\n",
              "      --fill-color: #D2E3FC;\n",
              "      --hover-bg-color: #434B5C;\n",
              "      --hover-fill-color: #FFFFFF;\n",
              "      --disabled-bg-color: #3B4455;\n",
              "      --disabled-fill-color: #666;\n",
              "  }\n",
              "\n",
              "  .colab-df-quickchart {\n",
              "    background-color: var(--bg-color);\n",
              "    border: none;\n",
              "    border-radius: 50%;\n",
              "    cursor: pointer;\n",
              "    display: none;\n",
              "    fill: var(--fill-color);\n",
              "    height: 32px;\n",
              "    padding: 0;\n",
              "    width: 32px;\n",
              "  }\n",
              "\n",
              "  .colab-df-quickchart:hover {\n",
              "    background-color: var(--hover-bg-color);\n",
              "    box-shadow: 0 1px 2px rgba(60, 64, 67, 0.3), 0 1px 3px 1px rgba(60, 64, 67, 0.15);\n",
              "    fill: var(--button-hover-fill-color);\n",
              "  }\n",
              "\n",
              "  .colab-df-quickchart-complete:disabled,\n",
              "  .colab-df-quickchart-complete:disabled:hover {\n",
              "    background-color: var(--disabled-bg-color);\n",
              "    fill: var(--disabled-fill-color);\n",
              "    box-shadow: none;\n",
              "  }\n",
              "\n",
              "  .colab-df-spinner {\n",
              "    border: 2px solid var(--fill-color);\n",
              "    border-color: transparent;\n",
              "    border-bottom-color: var(--fill-color);\n",
              "    animation:\n",
              "      spin 1s steps(1) infinite;\n",
              "  }\n",
              "\n",
              "  @keyframes spin {\n",
              "    0% {\n",
              "      border-color: transparent;\n",
              "      border-bottom-color: var(--fill-color);\n",
              "      border-left-color: var(--fill-color);\n",
              "    }\n",
              "    20% {\n",
              "      border-color: transparent;\n",
              "      border-left-color: var(--fill-color);\n",
              "      border-top-color: var(--fill-color);\n",
              "    }\n",
              "    30% {\n",
              "      border-color: transparent;\n",
              "      border-left-color: var(--fill-color);\n",
              "      border-top-color: var(--fill-color);\n",
              "      border-right-color: var(--fill-color);\n",
              "    }\n",
              "    40% {\n",
              "      border-color: transparent;\n",
              "      border-right-color: var(--fill-color);\n",
              "      border-top-color: var(--fill-color);\n",
              "    }\n",
              "    60% {\n",
              "      border-color: transparent;\n",
              "      border-right-color: var(--fill-color);\n",
              "    }\n",
              "    80% {\n",
              "      border-color: transparent;\n",
              "      border-right-color: var(--fill-color);\n",
              "      border-bottom-color: var(--fill-color);\n",
              "    }\n",
              "    90% {\n",
              "      border-color: transparent;\n",
              "      border-bottom-color: var(--fill-color);\n",
              "    }\n",
              "  }\n",
              "</style>\n",
              "\n",
              "  <script>\n",
              "    async function quickchart(key) {\n",
              "      const quickchartButtonEl =\n",
              "        document.querySelector('#' + key + ' button');\n",
              "      quickchartButtonEl.disabled = true;  // To prevent multiple clicks.\n",
              "      quickchartButtonEl.classList.add('colab-df-spinner');\n",
              "      try {\n",
              "        const charts = await google.colab.kernel.invokeFunction(\n",
              "            'suggestCharts', [key], {});\n",
              "      } catch (error) {\n",
              "        console.error('Error during call to suggestCharts:', error);\n",
              "      }\n",
              "      quickchartButtonEl.classList.remove('colab-df-spinner');\n",
              "      quickchartButtonEl.classList.add('colab-df-quickchart-complete');\n",
              "    }\n",
              "    (() => {\n",
              "      let quickchartButtonEl =\n",
              "        document.querySelector('#df-62eb4c4a-b666-4a68-a98b-ac3bd094ba95 button');\n",
              "      quickchartButtonEl.style.display =\n",
              "        google.colab.kernel.accessAllowed ? 'block' : 'none';\n",
              "    })();\n",
              "  </script>\n",
              "</div>\n",
              "\n",
              "    </div>\n",
              "  </div>\n"
            ],
            "application/vnd.google.colaboratory.intrinsic+json": {
              "type": "dataframe",
              "variable_name": "lines",
              "summary": "{\n  \"name\": \"lines\",\n  \"rows\": 15032,\n  \"fields\": [\n    {\n      \"column\": \"san\",\n      \"properties\": {\n        \"dtype\": \"string\",\n        \"num_unique_values\": 14951,\n        \"samples\": [\n          \"\\u0905\\u0925\\u093e\\u0938\\u093e\\u0926\\u094d\\u092f\\u0924\\u0941\\u0915\\u093e\\u0932\\u093f\\u0928\\u094d\\u0926\\u0940 \\u0936\\u0940\\u0918\\u094d\\u0930\\u0938\\u094d\\u0930\\u094b\\u0924\\u0938\\u094d\\u0935\\u093f\\u0928\\u0940 \\u0928\\u0926\\u0940\\u092e\\u094d\\u0964 \\u091a\\u093f\\u0928\\u094d\\u0924\\u093e\\u092e\\u093e\\u092a\\u0947\\u0926\\u093f\\u0930\\u0947 \\u0938\\u0926\\u094d\\u092f\\u094b \\u0928\\u0926\\u0940\\u091c\\u0932\\u0924\\u093f\\u0924\\u0940\\u0930\\u094d\\u0937\\u0935\\u0903\\u0965\",\n          \"\\u0905\\u0938\\u0915\\u0943\\u0924\\u094d \\u0924\\u0948\\u0930\\u094d\\u092e\\u0939\\u093e\\u092d\\u093e\\u0917\\u0948\\u0930\\u094d\\u0935\\u093e\\u0928\\u0930\\u0948\\u0930\\u094d\\u092c\\u0932\\u0938\\u0902\\u092f\\u0941\\u0924\\u0948\\u0903\\u0964 \\u092a\\u094d\\u0930\\u0926\\u0915\\u094d\\u0937\\u093f\\u0923\\u0940\\u0915\\u0943\\u0924\\u093e \\u092d\\u0942\\u092e\\u093f\\u0930\\u094d\\u0935\\u093e\\u092f\\u0941\\u092e\\u093e\\u0930\\u094d\\u0917\\u093e\\u0928\\u0941\\u0938\\u093e\\u0930\\u093f\\u092d\\u093f\\u0903\\u0965\",\n          \"\\u0924\\u0947 \\u0915\\u093e\\u092e\\u0930\\u0942\\u092a\\u093f\\u0923\\u0903 \\u0915\\u094d\\u0930\\u0942\\u0930\\u093e \\u0926\\u0902\\u0937\\u094d\\u091f\\u094d\\u0930\\u093f\\u0923\\u0903 \\u092a\\u093f\\u0919\\u094d\\u0917\\u0932\\u0947\\u0915\\u094d\\u0937\\u0923\\u0903\\u0964 \\u092e\\u093e\\u0924\\u0902\\u0917\\u093e \\u0907\\u0935 \\u0928\\u0930\\u094d\\u0926\\u0928\\u094d\\u0924\\u094b \\u0927\\u094d\\u0935\\u0938\\u094d\\u0924\\u0915\\u0947\\u0936\\u093e \\u092d\\u092f\\u093e\\u0935\\u0939\\u093e\\u0903\\u0965 \\u092a\\u0930\\u093f\\u0935\\u093e\\u0930\\u094d\\u092f \\u092e\\u0939\\u093e\\u0915\\u093e\\u092f\\u093e \\u092e\\u0939\\u093e\\u0915\\u093e\\u092f\\u0902 \\u0916\\u0930\\u093e\\u0924\\u094d\\u092e\\u091c\\u092e\\u094d\\u0964 \\u0905\\u092d\\u093f\\u091c\\u0918\\u094d\\u0928\\u0941\\u0938\\u094d\\u0924\\u0924\\u094b \\u0939\\u0943\\u0937\\u094d\\u091f\\u093e\\u0936\\u094d\\u091a\\u093e\\u0932\\u092f\\u0928\\u094d\\u0924\\u094b \\u0928\\u092d\\u0938\\u094d\\u0924\\u0932\\u092e\\u094d\\u0965\"\n        ],\n        \"semantic_type\": \"\",\n        \"description\": \"\"\n      }\n    },\n    {\n      \"column\": \"eng\",\n      \"properties\": {\n        \"dtype\": \"string\",\n        \"num_unique_values\": 14962,\n        \"samples\": [\n          \"START_ those women that are untruthful unmindful of evil ways heartless intent on unrighteous acts and whose love is evanescent are unchaste _END\",\n          \"START_ o foremost of men what to speak of the daughter of janakai can even renounce my life and yourselves in fear of a bad name _END\",\n          \"START_ next crumbling into pieces with his impetus the mighty chariot of r\\u0101vana coursing at will flaming like fire having steps studded with jewels and a wooden pole and throwing down the umbrella and chowris like to the full moon along with the r\\u0101k\\u015fasas engaged in carrying them the effulgent and mighty lord of birds shattered the head of the charioteer with the strokes of his beak _END\"\n        ],\n        \"semantic_type\": \"\",\n        \"description\": \"\"\n      }\n    }\n  ]\n}"
            }
          },
          "metadata": {},
          "execution_count": 57
        }
      ]
    },
    {
      "cell_type": "code",
      "source": [
        "# Train - Test Split\n",
        "X, y =  lines.san, lines.eng\n",
        "X_train, X_test, y_train, y_test = train_test_split(X, y, test_size = 0.1)\n",
        "X_train.shape, X_test.shape\n"
      ],
      "metadata": {
        "colab": {
          "base_uri": "https://localhost:8080/"
        },
        "id": "voqnqI_yflbe",
        "outputId": "affcc490-4e02-473c-9444-93148aa3ae23"
      },
      "execution_count": null,
      "outputs": [
        {
          "output_type": "execute_result",
          "data": {
            "text/plain": [
              "((13528,), (1504,))"
            ]
          },
          "metadata": {},
          "execution_count": 58
        }
      ]
    },
    {
      "cell_type": "code",
      "source": [
        "### Save the train and test dataframes\n",
        "X_train.to_pickle('X_train.pkl')\n",
        "X_test.to_pickle('X_test.pkl')"
      ],
      "metadata": {
        "id": "C1cFXKyofrHV"
      },
      "execution_count": null,
      "outputs": []
    },
    {
      "cell_type": "code",
      "source": [
        "def generate_batch(X = X_train, y = y_train, batch_size = 128):\n",
        "    ''' Generate a batch of data '''\n",
        "    while True:\n",
        "        for j in range(0, len(X), batch_size):\n",
        "            encoder_input_data = np.zeros((batch_size, max_length_src),dtype='float32')\n",
        "            decoder_input_data = np.zeros((batch_size, max_length_tar),dtype='float32')\n",
        "            decoder_target_data = np.zeros((batch_size, max_length_tar, num_decoder_tokens),dtype='float32')\n",
        "            for i, (input_text, target_text) in enumerate(zip(X[j:j+batch_size], y[j:j+batch_size])):\n",
        "                for t, word in enumerate(input_text.split()):\n",
        "                    encoder_input_data[i, t] = input_token_index[word] # encoder input seq\n",
        "                for t, word in enumerate(target_text.split()):\n",
        "                    if t<len(target_text.split())-1:\n",
        "                        decoder_input_data[i, t] = target_token_index[word] # decoder input seq\n",
        "                    if t>0:\n",
        "                        # decoder target sequence (one hot encoded)\n",
        "                        # does not include the START_ token\n",
        "                        # Offset by one timestep\n",
        "                        decoder_target_data[i, t - 1, target_token_index[word]] = 1.\n",
        "            yield([encoder_input_data, decoder_input_data], decoder_target_data)"
      ],
      "metadata": {
        "id": "jfOUCupGfwAJ"
      },
      "execution_count": null,
      "outputs": []
    },
    {
      "cell_type": "code",
      "source": [
        "latent_dim = 50"
      ],
      "metadata": {
        "id": "bp6bQydrf4tj"
      },
      "execution_count": null,
      "outputs": []
    },
    {
      "cell_type": "code",
      "source": [
        "# Encoder\n",
        "encoder_inputs = Input(shape=(None,))\n",
        "enc_emb =  Embedding(num_encoder_tokens, latent_dim, mask_zero = True)(encoder_inputs)\n",
        "encoder_lstm = LSTM(latent_dim, return_state=True)\n",
        "encoder_outputs, state_h, state_c = encoder_lstm(enc_emb)\n",
        "# We discard `encoder_outputs` and only keep the states.\n",
        "encoder_states = [state_h, state_c]"
      ],
      "metadata": {
        "id": "TOSmqmKRf650"
      },
      "execution_count": null,
      "outputs": []
    },
    {
      "cell_type": "code",
      "source": [
        "# Set up the decoder, using `encoder_states` as initial state.\n",
        "decoder_inputs = Input(shape=(None,))\n",
        "dec_emb_layer = Embedding(num_decoder_tokens, latent_dim, mask_zero = True)\n",
        "dec_emb = dec_emb_layer(decoder_inputs)\n",
        "# We set up our decoder to return full output sequences,\n",
        "# and to return internal states as well. We don't use the\n",
        "# return states in the training model, but we will use them in inference.\n",
        "decoder_lstm = LSTM(latent_dim, return_sequences=True, return_state=True)\n",
        "decoder_outputs, _, _ = decoder_lstm(dec_emb,\n",
        "                                     initial_state=encoder_states)\n",
        "decoder_dense = Dense(num_decoder_tokens, activation='softmax')\n",
        "decoder_outputs = decoder_dense(decoder_outputs)\n",
        "\n",
        "# Define the model that will turn\n",
        "# `encoder_input_data` & `decoder_input_data` into `decoder_target_data`\n",
        "model = Model([encoder_inputs, decoder_inputs], decoder_outputs)"
      ],
      "metadata": {
        "id": "V-2Etj6Lf9l9"
      },
      "execution_count": null,
      "outputs": []
    },
    {
      "cell_type": "code",
      "source": [
        "model.compile(optimizer='rmsprop', loss='categorical_crossentropy', metrics=['acc'])\n"
      ],
      "metadata": {
        "id": "tWOxWZxHgBns"
      },
      "execution_count": null,
      "outputs": []
    },
    {
      "cell_type": "code",
      "source": [
        "train_samples = len(X_train)\n",
        "val_samples = len(X_test)\n",
        "batch_size = 32\n",
        "epochs = 5"
      ],
      "metadata": {
        "id": "cPcg_iNcgFs6"
      },
      "execution_count": null,
      "outputs": []
    },
    {
      "cell_type": "code",
      "source": [
        "model.fit_generator(generator = generate_batch(X_train, y_train, batch_size = batch_size),\n",
        "                    steps_per_epoch = train_samples//batch_size,\n",
        "                    epochs=epochs,\n",
        "                    validation_data = generate_batch(X_test, y_test, batch_size = batch_size),\n",
        "                    validation_steps = val_samples//batch_size)\n"
      ],
      "metadata": {
        "colab": {
          "base_uri": "https://localhost:8080/"
        },
        "id": "2_PLniKVgJVG",
        "outputId": "198088cc-3dd3-46f6-e76f-51112e5526eb"
      },
      "execution_count": null,
      "outputs": [
        {
          "output_type": "stream",
          "name": "stderr",
          "text": [
            "<ipython-input-66-b22c3ec5e69e>:1: UserWarning: `Model.fit_generator` is deprecated and will be removed in a future version. Please use `Model.fit`, which supports generators.\n",
            "  model.fit_generator(generator = generate_batch(X_train, y_train, batch_size = batch_size),\n"
          ]
        },
        {
          "output_type": "stream",
          "name": "stdout",
          "text": [
            "Epoch 1/5\n",
            "422/422 [==============================] - 882s 2s/step - loss: 7.1334 - acc: 0.0641 - val_loss: 6.6296 - val_acc: 0.0644\n",
            "Epoch 2/5\n",
            "422/422 [==============================] - 846s 2s/step - loss: 6.6093 - acc: 0.0647 - val_loss: 6.6098 - val_acc: 0.0644\n",
            "Epoch 3/5\n",
            "422/422 [==============================] - 897s 2s/step - loss: 6.5964 - acc: 0.0646 - val_loss: 6.6068 - val_acc: 0.0644\n",
            "Epoch 4/5\n",
            "422/422 [==============================] - 839s 2s/step - loss: 6.5926 - acc: 0.0647 - val_loss: 6.6058 - val_acc: 0.0644\n",
            "Epoch 5/5\n",
            "422/422 [==============================] - 893s 2s/step - loss: 6.5910 - acc: 0.0647 - val_loss: 6.6054 - val_acc: 0.0644\n"
          ]
        },
        {
          "output_type": "execute_result",
          "data": {
            "text/plain": [
              "<keras.src.callbacks.History at 0x7d680c8a4640>"
            ]
          },
          "metadata": {},
          "execution_count": 66
        }
      ]
    },
    {
      "cell_type": "code",
      "source": [
        "### saving model\n",
        "model.save_weights('nmt_weights.h5')"
      ],
      "metadata": {
        "id": "w04M4gNxuACF"
      },
      "execution_count": null,
      "outputs": []
    },
    {
      "cell_type": "code",
      "source": [
        "### Ploting epoch vs loss\n",
        "plt.plot(range(len(model.history.history['val_loss'])),model.history.history['loss'])\n",
        "plt.xlabel(\"epochs\")\n",
        "plt.ylabel(\"loss\")\n",
        "plt.show()"
      ],
      "metadata": {
        "colab": {
          "base_uri": "https://localhost:8080/",
          "height": 449
        },
        "id": "0fmQJ6vc-P05",
        "outputId": "2732affc-14e2-462c-d2a9-01533df636b3"
      },
      "execution_count": null,
      "outputs": [
        {
          "output_type": "display_data",
          "data": {
            "text/plain": [
              "<Figure size 640x480 with 1 Axes>"
            ],
            "image/png": "[encoded data removed]"
          },
          "metadata": {}
        }
      ]
    },
    {
      "cell_type": "code",
      "source": [
        "### Ploting epoch vs accuracy\n",
        "plt.plot(range(len(model.history.history['acc'])),model.history.history['acc'])\n",
        "plt.xlabel(\"epochs\")\n",
        "plt.ylabel(\"accuracy\")\n",
        "plt.show()"
      ],
      "metadata": {
        "colab": {
          "base_uri": "https://localhost:8080/",
          "height": 452
        },
        "id": "KQUTE9yw-Sgj",
        "outputId": "06d53e4e-d5cf-46dd-8fca-c172d534c561"
      },
      "execution_count": null,
      "outputs": [
        {
          "output_type": "display_data",
          "data": {
            "text/plain": [
              "<Figure size 640x480 with 1 Axes>"
            ],
            "image/png": "[encoded data removed]"
          },
          "metadata": {}
        }
      ]
    },
    {
      "cell_type": "code",
      "source": [
        "model.load_weights('nmt_weights.h5')\n"
      ],
      "metadata": {
        "id": "8ut9Z_so-YiR"
      },
      "execution_count": null,
      "outputs": []
    },
    {
      "cell_type": "code",
      "source": [
        "# Encode the input sequence to get the \"thought vectors\"\n",
        "encoder_model = Model(encoder_inputs, encoder_states)\n",
        "\n",
        "# Decoder setup\n",
        "# Below tensors will hold the states of the previous time step\n",
        "decoder_state_input_h = Input(shape=(latent_dim,))\n",
        "decoder_state_input_c = Input(shape=(latent_dim,))\n",
        "decoder_states_inputs = [decoder_state_input_h, decoder_state_input_c]\n",
        "\n",
        "dec_emb2= dec_emb_layer(decoder_inputs) # Get the embeddings of the decoder sequence\n",
        "\n",
        "# To predict the next word in the sequence, set the initial states to the states from the previous time step\n",
        "decoder_outputs2, state_h2, state_c2 = decoder_lstm(dec_emb2, initial_state=decoder_states_inputs)\n",
        "decoder_states2 = [state_h2, state_c2]\n",
        "decoder_outputs2 = decoder_dense(decoder_outputs2) # A dense softmax layer to generate prob dist. over the target vocabulary\n",
        "\n",
        "# Final decoder model\n",
        "decoder_model = Model(\n",
        "    [decoder_inputs] + decoder_states_inputs,\n",
        "    [decoder_outputs2] + decoder_states2)"
      ],
      "metadata": {
        "id": "SXiG9Cbd-mKu"
      },
      "execution_count": null,
      "outputs": []
    },
    {
      "cell_type": "code",
      "source": [
        "def decode_sequence(input_seq,lenn):\n",
        "    # Encode the input as state vectors.\n",
        "    states_value = encoder_model.predict(input_seq)\n",
        "    # Generate empty target sequence of length 1.\n",
        "    target_seq = np.zeros((1,1))\n",
        "    # Populate the first character of target sequence with the start character.\n",
        "    target_seq[0, 0] = target_token_index['START_']\n",
        "\n",
        "    # Sampling loop for a batch of sequences\n",
        "    # (to simplify, here we assume a batch of size 1).\n",
        "    stop_condition = False\n",
        "    decoded_sentence = ''\n",
        "    while not stop_condition:\n",
        "        output_tokens, h, c = decoder_model.predict([target_seq] + states_value)\n",
        "\n",
        "        # Sample a token\n",
        "        sampled_token_index = np.argmax(output_tokens[0, -1, :])\n",
        "        sampled_char = reverse_target_char_index[sampled_token_index]\n",
        "        decoded_sentence += ' '+sampled_char\n",
        "\n",
        "        # Exit condition: either hit max length\n",
        "        # or find stop character.\n",
        "        if (sampled_char == '_END' or\n",
        "           len(decoded_sentence) > lenn*(mean_length_tar/mean_length_src)):\n",
        "            stop_condition = True\n",
        "\n",
        "        # Update the target sequence (of length 1).\n",
        "        target_seq = np.zeros((1,1))\n",
        "        target_seq[0, 0] = sampled_token_index\n",
        "\n",
        "        # Update states\n",
        "        states_value = [h, c]\n",
        "\n",
        "    return decoded_sentence"
      ],
      "metadata": {
        "id": "JfTfcLhn-nxW"
      },
      "execution_count": null,
      "outputs": []
    },
    {
      "cell_type": "code",
      "source": [
        "val_gen = generate_batch(X_test, y_test, batch_size = 1)\n",
        "k=-1\n",
        "res_out=np.array([['the sentence in engish','the sanskrit sentence','predicted translation']])\n",
        "\n",
        "for k in range(1,2):\n",
        "\n",
        "  (input_seq, actual_output), _ = next(val_gen)\n",
        "  decoded_sentence = decode_sequence(input_seq,len(X_test[k-1:k].values[0]))\n",
        "  res_out=np.append(res_out,np.array([[y_test[k-1:k].values[0][7:-5],X_test[k-1:k].values[0],decoded_sentence[1:-5]]]),axis=0)\n"
      ],
      "metadata": {
        "colab": {
          "base_uri": "https://localhost:8080/"
        },
        "id": "B_C4mAyE-8MC",
        "outputId": "e1149f82-d98b-4c86-cdd5-132a628521c8"
      },
      "execution_count": null,
      "outputs": [
        {
          "output_type": "stream",
          "name": "stdout",
          "text": [
            "1/1 [==============================] - 0s 32ms/step\n",
            "1/1 [==============================] - 0s 38ms/step\n",
            "1/1 [==============================] - 0s 35ms/step\n",
            "1/1 [==============================] - 0s 42ms/step\n",
            "1/1 [==============================] - 0s 23ms/step\n",
            "1/1 [==============================] - 0s 22ms/step\n",
            "1/1 [==============================] - 0s 21ms/step\n",
            "1/1 [==============================] - 0s 21ms/step\n",
            "1/1 [==============================] - 0s 21ms/step\n",
            "1/1 [==============================] - 0s 21ms/step\n",
            "1/1 [==============================] - 0s 20ms/step\n",
            "1/1 [==============================] - 0s 22ms/step\n",
            "1/1 [==============================] - 0s 21ms/step\n",
            "1/1 [==============================] - 0s 21ms/step\n",
            "1/1 [==============================] - 0s 21ms/step\n",
            "1/1 [==============================] - 0s 20ms/step\n",
            "1/1 [==============================] - 0s 21ms/step\n",
            "1/1 [==============================] - 0s 22ms/step\n",
            "1/1 [==============================] - 0s 21ms/step\n",
            "1/1 [==============================] - 0s 37ms/step\n",
            "1/1 [==============================] - 0s 25ms/step\n",
            "1/1 [==============================] - 0s 21ms/step\n",
            "1/1 [==============================] - 0s 21ms/step\n",
            "1/1 [==============================] - 0s 21ms/step\n",
            "1/1 [==============================] - 0s 21ms/step\n",
            "1/1 [==============================] - 0s 20ms/step\n",
            "1/1 [==============================] - 0s 21ms/step\n",
            "1/1 [==============================] - 0s 22ms/step\n",
            "1/1 [==============================] - 0s 21ms/step\n",
            "1/1 [==============================] - 0s 25ms/step\n",
            "1/1 [==============================] - 0s 22ms/step\n",
            "1/1 [==============================] - 0s 20ms/step\n",
            "1/1 [==============================] - 0s 24ms/step\n",
            "1/1 [==============================] - 0s 20ms/step\n",
            "1/1 [==============================] - 0s 21ms/step\n",
            "1/1 [==============================] - 0s 21ms/step\n",
            "1/1 [==============================] - 0s 21ms/step\n",
            "1/1 [==============================] - 0s 22ms/step\n",
            "1/1 [==============================] - 0s 21ms/step\n",
            "1/1 [==============================] - 0s 21ms/step\n",
            "1/1 [==============================] - 0s 20ms/step\n",
            "1/1 [==============================] - 0s 20ms/step\n",
            "1/1 [==============================] - 0s 24ms/step\n",
            "1/1 [==============================] - 0s 21ms/step\n",
            "1/1 [==============================] - 0s 21ms/step\n"
          ]
        }
      ]
    },
    {
      "cell_type": "code",
      "source": [
        "res_out"
      ],
      "metadata": {
        "colab": {
          "base_uri": "https://localhost:8080/"
        },
        "id": "GTXZ4yQq_SNi",
        "outputId": "b96543da-c88b-4db6-9382-c1853993151f"
      },
      "execution_count": null,
      "outputs": [
        {
          "output_type": "execute_result",
          "data": {
            "text/plain": [
              "array([['the sentence in english', 'the sanskrit sentence',\n",
              "        'predicted translation (with errors)'],\n",
              "       ['they were entwined with hundreds of creepers covered with santāna flowers and filled with diverse groves and karaviras serving the purpose of windows one of the trees of heaven literally the passages means making a gap in that forest thickly filled with trees” but rāmānuja interprets thus and we have adopted his interpretaion',\n",
              "        'लताशतैरवतता संतानकुसुमावृताः। नानागुल्मावृतवनाः करवीरकृतान्तराः॥',\n",
              "        'they that entwined with hundreds of creepers covered with santāna flowers and filled to of is and karaviras serving the purpose of windows one of of trees of heaven literally the passages means that a gap in was the thickly filled with trees” but was interprets thus and we have adopted it interpretaion']],\n",
              "      dtype='<U327')"
            ]
          },
          "metadata": {},
          "execution_count": 88
        }
      ]
    },
    {
      "cell_type": "code",
      "source": [
        "\n",
        "res_out = np.array(res_out)\n",
        "\n",
        "original_english_sentences = res_out[1:, 0]  # Skip the header row\n",
        "predicted_translations = res_out[1:, 2]\n",
        "\n",
        "accurate_predictions = np.sum(original_english_sentences == predicted_translations)\n",
        "total_predictions = len(predicted_translations)\n",
        "accuracy = accurate_predictions / total_predictions\n",
        "\n",
        "print(f\"Accuracy: {accuracy*100:.2f}%\")\n"
      ],
      "metadata": {
        "colab": {
          "base_uri": "https://localhost:8080/"
        },
        "id": "iHBfNBQPDupL",
        "outputId": "1dc98bc1-50a7-45a7-eab3-3777afc619b4"
      },
      "execution_count": null,
      "outputs": [
        {
          "output_type": "stream",
          "name": "stdout",
          "text": [
            "Accuracy: 66.30%\n"
          ]
        }
      ]
    }
  ]
}